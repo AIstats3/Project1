{
 "cells": [
  {
   "cell_type": "code",
   "execution_count": 19,
   "id": "f79b1f95",
   "metadata": {},
   "outputs": [
    {
     "name": "stdout",
     "output_type": "stream",
     "text": [
      "The autoreload extension is already loaded. To reload it, use:\n",
      "  %reload_ext autoreload\n"
     ]
    }
   ],
   "source": [
    "%load_ext autoreload\n",
    "%autoreload 2\n",
    "\n",
    "import pandas as pd\n",
    "from itertools import product\n",
    "pd.set_option(\"display.max_rows\", 101)\n",
    "pd.set_option(\"display.max_columns\", 101)\n",
    "\n",
    "import matplotlib.pyplot as plt\n",
    "import os"
   ]
  },
  {
   "cell_type": "code",
   "execution_count": 20,
   "id": "ecb1bf0f",
   "metadata": {},
   "outputs": [],
   "source": [
    "import Metrica_IO as mio\n",
    "import Metrica_Viz as mviz"
   ]
  },
  {
   "cell_type": "code",
   "execution_count": 21,
   "id": "dfd5d61c",
   "metadata": {},
   "outputs": [],
   "source": [
    "# set up initial path to data\n",
    "DATADIR = os.path.join(\"sample-data\",\"data\")\n",
    "game_id = 1 # let's look at sample match 2"
   ]
  },
  {
   "cell_type": "code",
   "execution_count": 22,
   "id": "31a4d4ba",
   "metadata": {},
   "outputs": [],
   "source": [
    "# read in the event data\n",
    "events = mio.read_event_data(DATADIR,game_id)"
   ]
  },
  {
   "cell_type": "code",
   "execution_count": 23,
   "id": "72381332",
   "metadata": {},
   "outputs": [],
   "source": [
    "# Bit of housekeeping: unit conversion from metric data units to meters\n",
    "events = mio.to_metric_coordinates(events)"
   ]
  },
  {
   "cell_type": "code",
   "execution_count": 24,
   "id": "315ce753",
   "metadata": {},
   "outputs": [
    {
     "name": "stdout",
     "output_type": "stream",
     "text": [
      "Reading team: home\n",
      "Reading team: away\n"
     ]
    }
   ],
   "source": [
    "tracking_home = mio.tracking_data(DATADIR,game_id,'Home')\n",
    "tracking_away = mio.tracking_data(DATADIR,game_id,'Away')\n",
    "\n",
    "# Convert positions from metrica units to meters \n",
    "tracking_home = mio.to_metric_coordinates(tracking_home)\n",
    "tracking_away = mio.to_metric_coordinates(tracking_away)"
   ]
  },
  {
   "cell_type": "code",
   "execution_count": null,
   "id": "5dddb930",
   "metadata": {},
   "outputs": [],
   "source": []
  },
  {
   "cell_type": "code",
   "execution_count": 25,
   "id": "3149f3f6",
   "metadata": {},
   "outputs": [],
   "source": [
    "passes = events.loc[events[\"Type\"]==\"PASS\"]\n",
    "passes.insert(2,\"Impact Factor\",0)##Set up a column for the impact factor to go into"
   ]
  },
  {
   "cell_type": "code",
   "execution_count": 26,
   "id": "3fba770a",
   "metadata": {},
   "outputs": [
    {
     "data": {
      "text/html": [
       "<div>\n",
       "<style scoped>\n",
       "    .dataframe tbody tr th:only-of-type {\n",
       "        vertical-align: middle;\n",
       "    }\n",
       "\n",
       "    .dataframe tbody tr th {\n",
       "        vertical-align: top;\n",
       "    }\n",
       "\n",
       "    .dataframe thead th {\n",
       "        text-align: right;\n",
       "    }\n",
       "</style>\n",
       "<table border=\"1\" class=\"dataframe\">\n",
       "  <thead>\n",
       "    <tr style=\"text-align: right;\">\n",
       "      <th></th>\n",
       "      <th>Team</th>\n",
       "      <th>Type</th>\n",
       "      <th>Impact Factor</th>\n",
       "      <th>Subtype</th>\n",
       "      <th>Period</th>\n",
       "      <th>Start Frame</th>\n",
       "      <th>Start Time [s]</th>\n",
       "      <th>End Frame</th>\n",
       "      <th>End Time [s]</th>\n",
       "      <th>From</th>\n",
       "      <th>To</th>\n",
       "      <th>Start X</th>\n",
       "      <th>Start Y</th>\n",
       "      <th>End X</th>\n",
       "      <th>End Y</th>\n",
       "    </tr>\n",
       "  </thead>\n",
       "  <tbody>\n",
       "    <tr>\n",
       "      <th>1</th>\n",
       "      <td>Away</td>\n",
       "      <td>PASS</td>\n",
       "      <td>0</td>\n",
       "      <td>NaN</td>\n",
       "      <td>1</td>\n",
       "      <td>1</td>\n",
       "      <td>0.04</td>\n",
       "      <td>3</td>\n",
       "      <td>0.12</td>\n",
       "      <td>Player19</td>\n",
       "      <td>Player21</td>\n",
       "      <td>-5.30</td>\n",
       "      <td>7.48</td>\n",
       "      <td>5.30</td>\n",
       "      <td>4.76</td>\n",
       "    </tr>\n",
       "    <tr>\n",
       "      <th>2</th>\n",
       "      <td>Away</td>\n",
       "      <td>PASS</td>\n",
       "      <td>0</td>\n",
       "      <td>NaN</td>\n",
       "      <td>1</td>\n",
       "      <td>3</td>\n",
       "      <td>0.12</td>\n",
       "      <td>17</td>\n",
       "      <td>0.68</td>\n",
       "      <td>Player21</td>\n",
       "      <td>Player15</td>\n",
       "      <td>5.30</td>\n",
       "      <td>4.76</td>\n",
       "      <td>8.48</td>\n",
       "      <td>19.72</td>\n",
       "    </tr>\n",
       "    <tr>\n",
       "      <th>3</th>\n",
       "      <td>Away</td>\n",
       "      <td>PASS</td>\n",
       "      <td>0</td>\n",
       "      <td>NaN</td>\n",
       "      <td>1</td>\n",
       "      <td>45</td>\n",
       "      <td>1.80</td>\n",
       "      <td>61</td>\n",
       "      <td>2.44</td>\n",
       "      <td>Player15</td>\n",
       "      <td>Player19</td>\n",
       "      <td>5.30</td>\n",
       "      <td>21.08</td>\n",
       "      <td>-5.30</td>\n",
       "      <td>12.92</td>\n",
       "    </tr>\n",
       "    <tr>\n",
       "      <th>4</th>\n",
       "      <td>Away</td>\n",
       "      <td>PASS</td>\n",
       "      <td>0</td>\n",
       "      <td>NaN</td>\n",
       "      <td>1</td>\n",
       "      <td>77</td>\n",
       "      <td>3.08</td>\n",
       "      <td>96</td>\n",
       "      <td>3.84</td>\n",
       "      <td>Player19</td>\n",
       "      <td>Player21</td>\n",
       "      <td>-5.30</td>\n",
       "      <td>12.24</td>\n",
       "      <td>-1.06</td>\n",
       "      <td>2.04</td>\n",
       "    </tr>\n",
       "    <tr>\n",
       "      <th>5</th>\n",
       "      <td>Away</td>\n",
       "      <td>PASS</td>\n",
       "      <td>0</td>\n",
       "      <td>NaN</td>\n",
       "      <td>1</td>\n",
       "      <td>191</td>\n",
       "      <td>7.64</td>\n",
       "      <td>217</td>\n",
       "      <td>8.68</td>\n",
       "      <td>Player21</td>\n",
       "      <td>Player22</td>\n",
       "      <td>-10.60</td>\n",
       "      <td>-15.64</td>\n",
       "      <td>-19.08</td>\n",
       "      <td>-32.64</td>\n",
       "    </tr>\n",
       "    <tr>\n",
       "      <th>...</th>\n",
       "      <td>...</td>\n",
       "      <td>...</td>\n",
       "      <td>...</td>\n",
       "      <td>...</td>\n",
       "      <td>...</td>\n",
       "      <td>...</td>\n",
       "      <td>...</td>\n",
       "      <td>...</td>\n",
       "      <td>...</td>\n",
       "      <td>...</td>\n",
       "      <td>...</td>\n",
       "      <td>...</td>\n",
       "      <td>...</td>\n",
       "      <td>...</td>\n",
       "      <td>...</td>\n",
       "    </tr>\n",
       "    <tr>\n",
       "      <th>1731</th>\n",
       "      <td>Away</td>\n",
       "      <td>PASS</td>\n",
       "      <td>0</td>\n",
       "      <td>NaN</td>\n",
       "      <td>2</td>\n",
       "      <td>142715</td>\n",
       "      <td>5708.60</td>\n",
       "      <td>142755</td>\n",
       "      <td>5710.20</td>\n",
       "      <td>Player20</td>\n",
       "      <td>Player27</td>\n",
       "      <td>-9.54</td>\n",
       "      <td>11.56</td>\n",
       "      <td>10.60</td>\n",
       "      <td>31.28</td>\n",
       "    </tr>\n",
       "    <tr>\n",
       "      <th>1736</th>\n",
       "      <td>Away</td>\n",
       "      <td>PASS</td>\n",
       "      <td>0</td>\n",
       "      <td>NaN</td>\n",
       "      <td>2</td>\n",
       "      <td>143130</td>\n",
       "      <td>5725.20</td>\n",
       "      <td>143137</td>\n",
       "      <td>5725.48</td>\n",
       "      <td>Player16</td>\n",
       "      <td>Player18</td>\n",
       "      <td>0.00</td>\n",
       "      <td>8.84</td>\n",
       "      <td>11.66</td>\n",
       "      <td>-2.04</td>\n",
       "    </tr>\n",
       "    <tr>\n",
       "      <th>1739</th>\n",
       "      <td>Home</td>\n",
       "      <td>PASS</td>\n",
       "      <td>0</td>\n",
       "      <td>NaN</td>\n",
       "      <td>2</td>\n",
       "      <td>143262</td>\n",
       "      <td>5730.48</td>\n",
       "      <td>143297</td>\n",
       "      <td>5731.88</td>\n",
       "      <td>Player14</td>\n",
       "      <td>Player12</td>\n",
       "      <td>26.50</td>\n",
       "      <td>19.04</td>\n",
       "      <td>22.26</td>\n",
       "      <td>14.96</td>\n",
       "    </tr>\n",
       "    <tr>\n",
       "      <th>1740</th>\n",
       "      <td>Home</td>\n",
       "      <td>PASS</td>\n",
       "      <td>0</td>\n",
       "      <td>NaN</td>\n",
       "      <td>2</td>\n",
       "      <td>143361</td>\n",
       "      <td>5734.44</td>\n",
       "      <td>143483</td>\n",
       "      <td>5739.32</td>\n",
       "      <td>Player12</td>\n",
       "      <td>Player13</td>\n",
       "      <td>10.60</td>\n",
       "      <td>11.56</td>\n",
       "      <td>-32.86</td>\n",
       "      <td>-30.60</td>\n",
       "    </tr>\n",
       "    <tr>\n",
       "      <th>1741</th>\n",
       "      <td>Home</td>\n",
       "      <td>PASS</td>\n",
       "      <td>0</td>\n",
       "      <td>NaN</td>\n",
       "      <td>2</td>\n",
       "      <td>143578</td>\n",
       "      <td>5743.12</td>\n",
       "      <td>143593</td>\n",
       "      <td>5743.72</td>\n",
       "      <td>Player13</td>\n",
       "      <td>Player4</td>\n",
       "      <td>-43.46</td>\n",
       "      <td>-25.84</td>\n",
       "      <td>-38.16</td>\n",
       "      <td>-12.92</td>\n",
       "    </tr>\n",
       "  </tbody>\n",
       "</table>\n",
       "<p>799 rows × 15 columns</p>\n",
       "</div>"
      ],
      "text/plain": [
       "      Team  Type  Impact Factor Subtype  Period  Start Frame  Start Time [s]  \\\n",
       "1     Away  PASS              0     NaN       1            1            0.04   \n",
       "2     Away  PASS              0     NaN       1            3            0.12   \n",
       "3     Away  PASS              0     NaN       1           45            1.80   \n",
       "4     Away  PASS              0     NaN       1           77            3.08   \n",
       "5     Away  PASS              0     NaN       1          191            7.64   \n",
       "...    ...   ...            ...     ...     ...          ...             ...   \n",
       "1731  Away  PASS              0     NaN       2       142715         5708.60   \n",
       "1736  Away  PASS              0     NaN       2       143130         5725.20   \n",
       "1739  Home  PASS              0     NaN       2       143262         5730.48   \n",
       "1740  Home  PASS              0     NaN       2       143361         5734.44   \n",
       "1741  Home  PASS              0     NaN       2       143578         5743.12   \n",
       "\n",
       "      End Frame  End Time [s]      From        To  Start X  Start Y  End X  \\\n",
       "1             3          0.12  Player19  Player21    -5.30     7.48   5.30   \n",
       "2            17          0.68  Player21  Player15     5.30     4.76   8.48   \n",
       "3            61          2.44  Player15  Player19     5.30    21.08  -5.30   \n",
       "4            96          3.84  Player19  Player21    -5.30    12.24  -1.06   \n",
       "5           217          8.68  Player21  Player22   -10.60   -15.64 -19.08   \n",
       "...         ...           ...       ...       ...      ...      ...    ...   \n",
       "1731     142755       5710.20  Player20  Player27    -9.54    11.56  10.60   \n",
       "1736     143137       5725.48  Player16  Player18     0.00     8.84  11.66   \n",
       "1739     143297       5731.88  Player14  Player12    26.50    19.04  22.26   \n",
       "1740     143483       5739.32  Player12  Player13    10.60    11.56 -32.86   \n",
       "1741     143593       5743.72  Player13   Player4   -43.46   -25.84 -38.16   \n",
       "\n",
       "      End Y  \n",
       "1      4.76  \n",
       "2     19.72  \n",
       "3     12.92  \n",
       "4      2.04  \n",
       "5    -32.64  \n",
       "...     ...  \n",
       "1731  31.28  \n",
       "1736  -2.04  \n",
       "1739  14.96  \n",
       "1740 -30.60  \n",
       "1741 -12.92  \n",
       "\n",
       "[799 rows x 15 columns]"
      ]
     },
     "execution_count": 26,
     "metadata": {},
     "output_type": "execute_result"
    }
   ],
   "source": [
    "passes"
   ]
  },
  {
   "cell_type": "code",
   "execution_count": 27,
   "id": "57fcf6e1",
   "metadata": {},
   "outputs": [
    {
     "name": "stdout",
     "output_type": "stream",
     "text": [
      "799\n"
     ]
    }
   ],
   "source": [
    "def find_pass_indexes(df):##Find the indexes for all the passes since they are not sequential\n",
    "    index = []\n",
    "    for i in range(0, len(df)):\n",
    "        index.append(df.loc[df['Type'] == 'PASS'].index[i])\n",
    "    return index\n",
    "pass_indexes=find_pass_indexes(passes)\n",
    "\n",
    "print(len(pass_indexes))##"
   ]
  },
  {
   "cell_type": "code",
   "execution_count": 86,
   "id": "09177516",
   "metadata": {},
   "outputs": [],
   "source": [
    "threshold=10\n",
    "for i in range(0,len(pass_indexes)):\n",
    "    pass_number=pass_indexes[i]##Update: Problem solved\n",
    "    pass_of_interest_loc_before=passes.loc[pass_number].at[\"Start Frame\"]\n",
    "    pass_of_interest_team=passes.loc[pass_number].at[\"Team\"]\n",
    "##Lets get the tracking data from before the pass is made and find how many teammates were open\n",
    "    if pass_of_interest_team==\"Away\":\n",
    "        reciever_teammates_before=tracking_away.loc[pass_of_interest_loc_before][2:26].dropna()##Away has 12 players=>26\n",
    "        reciever_opponents_before=tracking_home.loc[pass_of_interest_loc_before][2:30].dropna()##Home has 14 players=>30\n",
    "    else:\n",
    "        reciever_opponents_before=tracking_away.loc[pass_of_interest_loc_before][2:26].dropna()##Thus these lists will ALWAYS\n",
    "        reciever_teammates_before=tracking_home.loc[pass_of_interest_loc_before][2:30].dropna()##have 22 entries, GK always in 0,1\n",
    "    ##Further, we could exclude GK's from this if it makes it better\n",
    "    teammate_x_before=list(reciever_teammates_before[0:21:2])##Seperate all x and y values and turn into list\n",
    "    teammate_y_before=list(reciever_teammates_before[1:22:2])##So we can use the zip function to pair up corresponding x values\n",
    "    opponent_x_before=list(reciever_opponents_before[0:21:2])##made names shorter because it was getting absurd\n",
    "    opponent_y_before=list(reciever_opponents_before[1:22:2])\n",
    "    distances_before=[]##initialize the list that will store distances\n",
    "    for (x1, y1), (x2, y2) in product(zip(teammate_x_before, teammate_y_before), zip(opponent_x_before, opponent_y_before)):\n",
    "        distance = ((x2 - x1)**2 + (y2 - y1)**2)**0.5\n",
    "        distances_before.append(distance)\n",
    "    ##Need to get this so I check if each PLAYER is open\n",
    "    open_count_before=0##Initialize \n",
    "    ##To do this we take 11 elements of distances_before at a time(the distance between the first player in the list and all the player on the other team)\n",
    "    for i in range(0,11):\n",
    "        if all(x > threshold for x in distances_before[i*11:(i+1)*11]):##And we check if all those values are greater than a certain number, here: 5\n",
    "            open_count_before+=1\n",
    "##Lets get the tracking data from after the pass was made\n",
    "##This is the same exact process but using the reference of the end frame of the pass rather than the start frame\n",
    "    pass_of_interest_loc_after=passes.loc[pass_number].at[\"End Frame\"]\n",
    "    pass_of_interest_team=passes.loc[pass_number].at[\"Team\"]##Should be the same as before##Take this out when compounding code, this is just here as a reminder\n",
    "    if pass_of_interest_team==\"Away\":\n",
    "        reciever_teammates_after=tracking_away.loc[pass_of_interest_loc_after][2:26].dropna()##Away has 12 players=>26\n",
    "        reciever_opponents_after=tracking_home.loc[pass_of_interest_loc_after][2:30].dropna()##Home has 14 players=>30\n",
    "    else:\n",
    "        reciever_opponents_after=tracking_away.loc[pass_of_interest_loc_after][2:26].dropna()##Thus these lists will ALWAYS\n",
    "        reciever_teammates_after=tracking_home.loc[pass_of_interest_loc_after][2:30].dropna()##have 22 entries, GK always in 0,1\n",
    "    ##Further, we could exclude GK's from this if it makes it better\n",
    "##Get the distances for after\n",
    "    teammate_x_after=list(reciever_teammates_after[0:21:2])\n",
    "    teammate_y_after=list(reciever_teammates_after[1:22:2])\n",
    "    opponent_x_after=list(reciever_opponents_after[0:21:2])\n",
    "    opponent_y_after=list(reciever_opponents_after[1:22:2])\n",
    "    distances_after=[]##initialize the list\n",
    "    for (x1,y1), (x2,y2) in product(zip(teammate_x_after,teammate_y_after), zip(opponent_x_after, opponent_y_after)):\n",
    "        distance = ((x2 - x1)**2 + (y2 - y1)**2)**0.5\n",
    "        distances_after.append(distance)\n",
    "\n",
    "\n",
    "    open_count_after=0##Initialize \n",
    "##To do this we take 11 elements of distances_before at a time(the distance between the first player in the list and all the player on the other team)\n",
    "\n",
    "    for i in range(0,11):\n",
    "        if all(x > threshold for x in distances_after[i*11:(i+1)*11]):##And we check if all those values are greater than a certain number, here: 5\n",
    "            open_count_after+=1\n",
    "    iFactor=open_count_after-open_count_before ##Find how many teammates were made open by the pass\n",
    "    passes.loc[pass_number,('Impact Factor')]=iFactor##Assign that factor to the corresponding row in the data frame"
   ]
  },
  {
   "cell_type": "code",
   "execution_count": 87,
   "id": "ce56390f",
   "metadata": {},
   "outputs": [
    {
     "data": {
      "image/png": "[encoded data removed]",
      "text/plain": [
       "<Figure size 640x480 with 1 Axes>"
      ]
     },
     "metadata": {},
     "output_type": "display_data"
    }
   ],
   "source": [
    "t10=passes[\"Impact Factor\"].describe()\n",
    "h10=plt.hist(passes[\"Impact Factor\"])"
   ]
  },
  {
   "cell_type": "code",
   "execution_count": 88,
   "id": "2aaded3e",
   "metadata": {},
   "outputs": [],
   "source": [
    "threshold=5\n",
    "for i in range(0,len(pass_indexes)):\n",
    "    pass_number=pass_indexes[i]##Update: Problem solved\n",
    "    pass_of_interest_loc_before=passes.loc[pass_number].at[\"Start Frame\"]\n",
    "    pass_of_interest_team=passes.loc[pass_number].at[\"Team\"]\n",
    "##Lets get the tracking data from before the pass is made and find how many teammates were open\n",
    "    if pass_of_interest_team==\"Away\":\n",
    "        reciever_teammates_before=tracking_away.loc[pass_of_interest_loc_before][2:26].dropna()##Away has 12 players=>26\n",
    "        reciever_opponents_before=tracking_home.loc[pass_of_interest_loc_before][2:30].dropna()##Home has 14 players=>30\n",
    "    else:\n",
    "        reciever_opponents_before=tracking_away.loc[pass_of_interest_loc_before][2:26].dropna()##Thus these lists will ALWAYS\n",
    "        reciever_teammates_before=tracking_home.loc[pass_of_interest_loc_before][2:30].dropna()##have 22 entries, GK always in 0,1\n",
    "    ##Further, we could exclude GK's from this if it makes it better\n",
    "    teammate_x_before=list(reciever_teammates_before[0:21:2])##Seperate all x and y values and turn into list\n",
    "    teammate_y_before=list(reciever_teammates_before[1:22:2])##So we can use the zip function to pair up corresponding x values\n",
    "    opponent_x_before=list(reciever_opponents_before[0:21:2])##made names shorter because it was getting absurd\n",
    "    opponent_y_before=list(reciever_opponents_before[1:22:2])\n",
    "    distances_before=[]##initialize the list that will store distances\n",
    "    for (x1, y1), (x2, y2) in product(zip(teammate_x_before, teammate_y_before), zip(opponent_x_before, opponent_y_before)):\n",
    "        distance = ((x2 - x1)**2 + (y2 - y1)**2)**0.5\n",
    "        distances_before.append(distance)\n",
    "    ##Need to get this so I check if each PLAYER is open\n",
    "    open_count_before=0##Initialize \n",
    "    ##To do this we take 11 elements of distances_before at a time(the distance between the first player in the list and all the player on the other team)\n",
    "    for i in range(0,11):\n",
    "        if all(x > threshold for x in distances_before[i*11:(i+1)*11]):##And we check if all those values are greater than a certain number, here: 5\n",
    "            open_count_before+=1\n",
    "##Lets get the tracking data from after the pass was made\n",
    "##This is the same exact process but using the reference of the end frame of the pass rather than the start frame\n",
    "    pass_of_interest_loc_after=passes.loc[pass_number].at[\"End Frame\"]\n",
    "    pass_of_interest_team=passes.loc[pass_number].at[\"Team\"]##Should be the same as before##Take this out when compounding code, this is just here as a reminder\n",
    "    if pass_of_interest_team==\"Away\":\n",
    "        reciever_teammates_after=tracking_away.loc[pass_of_interest_loc_after][2:26].dropna()##Away has 12 players=>26\n",
    "        reciever_opponents_after=tracking_home.loc[pass_of_interest_loc_after][2:30].dropna()##Home has 14 players=>30\n",
    "    else:\n",
    "        reciever_opponents_after=tracking_away.loc[pass_of_interest_loc_after][2:26].dropna()##Thus these lists will ALWAYS\n",
    "        reciever_teammates_after=tracking_home.loc[pass_of_interest_loc_after][2:30].dropna()##have 22 entries, GK always in 0,1\n",
    "    ##Further, we could exclude GK's from this if it makes it better\n",
    "##Get the distances for after\n",
    "    teammate_x_after=list(reciever_teammates_after[0:21:2])\n",
    "    teammate_y_after=list(reciever_teammates_after[1:22:2])\n",
    "    opponent_x_after=list(reciever_opponents_after[0:21:2])\n",
    "    opponent_y_after=list(reciever_opponents_after[1:22:2])\n",
    "    distances_after=[]##initialize the list\n",
    "    for (x1,y1), (x2,y2) in product(zip(teammate_x_after,teammate_y_after), zip(opponent_x_after, opponent_y_after)):\n",
    "        distance = ((x2 - x1)**2 + (y2 - y1)**2)**0.5\n",
    "        distances_after.append(distance)\n",
    "\n",
    "\n",
    "    open_count_after=0##Initialize \n",
    "##To do this we take 11 elements of distances_before at a time(the distance between the first player in the list and all the player on the other team)\n",
    "\n",
    "    for i in range(0,11):\n",
    "        if all(x > threshold for x in distances_after[i*11:(i+1)*11]):##And we check if all those values are greater than a certain number, here: 5\n",
    "            open_count_after+=1\n",
    "    iFactor=open_count_after-open_count_before ##Find how many teammates were made open by the pass\n",
    "    passes.loc[pass_number,('Impact Factor')]=iFactor##Assign that factor to the corresponding row in the data frame"
   ]
  },
  {
   "cell_type": "code",
   "execution_count": 89,
   "id": "b06f2cdf",
   "metadata": {},
   "outputs": [
    {
     "data": {
      "image/png": "[encoded data removed]",
      "text/plain": [
       "<Figure size 640x480 with 1 Axes>"
      ]
     },
     "metadata": {},
     "output_type": "display_data"
    }
   ],
   "source": [
    "t5=passes[\"Impact Factor\"].describe()\n",
    "h5=plt.hist(passes[\"Impact Factor\"])"
   ]
  },
  {
   "cell_type": "code",
   "execution_count": 97,
   "id": "373a614f",
   "metadata": {},
   "outputs": [],
   "source": [
    "threshold=1\n",
    "for i in range(0,len(pass_indexes)):\n",
    "    pass_number=pass_indexes[i]##Update: Problem solved\n",
    "    pass_of_interest_loc_before=passes.loc[pass_number].at[\"Start Frame\"]\n",
    "    pass_of_interest_team=passes.loc[pass_number].at[\"Team\"]\n",
    "##Lets get the tracking data from before the pass is made and find how many teammates were open\n",
    "    if pass_of_interest_team==\"Away\":\n",
    "        reciever_teammates_before=tracking_away.loc[pass_of_interest_loc_before][2:26].dropna()##Away has 12 players=>26\n",
    "        reciever_opponents_before=tracking_home.loc[pass_of_interest_loc_before][2:30].dropna()##Home has 14 players=>30\n",
    "    else:\n",
    "        reciever_opponents_before=tracking_away.loc[pass_of_interest_loc_before][2:26].dropna()##Thus these lists will ALWAYS\n",
    "        reciever_teammates_before=tracking_home.loc[pass_of_interest_loc_before][2:30].dropna()##have 22 entries, GK always in 0,1\n",
    "    ##Further, we could exclude GK's from this if it makes it better\n",
    "    teammate_x_before=list(reciever_teammates_before[0:21:2])##Seperate all x and y values and turn into list\n",
    "    teammate_y_before=list(reciever_teammates_before[1:22:2])##So we can use the zip function to pair up corresponding x values\n",
    "    opponent_x_before=list(reciever_opponents_before[0:21:2])##made names shorter because it was getting absurd\n",
    "    opponent_y_before=list(reciever_opponents_before[1:22:2])\n",
    "    distances_before=[]##initialize the list that will store distances\n",
    "    for (x1, y1), (x2, y2) in product(zip(teammate_x_before, teammate_y_before), zip(opponent_x_before, opponent_y_before)):\n",
    "        distance = ((x2 - x1)**2 + (y2 - y1)**2)**0.5\n",
    "        distances_before.append(distance)\n",
    "    ##Need to get this so I check if each PLAYER is open\n",
    "    open_count_before=0##Initialize \n",
    "    ##To do this we take 11 elements of distances_before at a time(the distance between the first player in the list and all the player on the other team)\n",
    "    for i in range(0,11):\n",
    "        if all(x > threshold for x in distances_before[i*11:(i+1)*11]):##And we check if all those values are greater than a certain number, here: 5\n",
    "            open_count_before+=1\n",
    "##Lets get the tracking data from after the pass was made\n",
    "##This is the same exact process but using the reference of the end frame of the pass rather than the start frame\n",
    "    pass_of_interest_loc_after=passes.loc[pass_number].at[\"End Frame\"]\n",
    "    pass_of_interest_team=passes.loc[pass_number].at[\"Team\"]##Should be the same as before##Take this out when compounding code, this is just here as a reminder\n",
    "    if pass_of_interest_team==\"Away\":\n",
    "        reciever_teammates_after=tracking_away.loc[pass_of_interest_loc_after][2:26].dropna()##Away has 12 players=>26\n",
    "        reciever_opponents_after=tracking_home.loc[pass_of_interest_loc_after][2:30].dropna()##Home has 14 players=>30\n",
    "    else:\n",
    "        reciever_opponents_after=tracking_away.loc[pass_of_interest_loc_after][2:26].dropna()##Thus these lists will ALWAYS\n",
    "        reciever_teammates_after=tracking_home.loc[pass_of_interest_loc_after][2:30].dropna()##have 22 entries, GK always in 0,1\n",
    "    ##Further, we could exclude GK's from this if it makes it better\n",
    "##Get the distances for after\n",
    "    teammate_x_after=list(reciever_teammates_after[0:21:2])\n",
    "    teammate_y_after=list(reciever_teammates_after[1:22:2])\n",
    "    opponent_x_after=list(reciever_opponents_after[0:21:2])\n",
    "    opponent_y_after=list(reciever_opponents_after[1:22:2])\n",
    "    distances_after=[]##initialize the list\n",
    "    for (x1,y1), (x2,y2) in product(zip(teammate_x_after,teammate_y_after), zip(opponent_x_after, opponent_y_after)):\n",
    "        distance = ((x2 - x1)**2 + (y2 - y1)**2)**0.5\n",
    "        distances_after.append(distance)\n",
    "\n",
    "\n",
    "    open_count_after=0##Initialize \n",
    "##To do this we take 11 elements of distances_before at a time(the distance between the first player in the list and all the player on the other team)\n",
    "\n",
    "    for i in range(0,11):\n",
    "        if all(x > threshold for x in distances_after[i*11:(i+1)*11]):##And we check if all those values are greater than a certain number, here: 5\n",
    "            open_count_after+=1\n",
    "    iFactor=open_count_after-open_count_before ##Find how many teammates were made open by the pass\n",
    "    passes.loc[pass_number,('Impact Factor')]=iFactor##Assign that factor to the corresponding row in the data frame"
   ]
  },
  {
   "cell_type": "code",
   "execution_count": 103,
   "id": "fbd6b845",
   "metadata": {},
   "outputs": [
    {
     "data": {
      "image/png": "[encoded data removed]",
      "text/plain": [
       "<Figure size 640x480 with 1 Axes>"
      ]
     },
     "metadata": {},
     "output_type": "display_data"
    }
   ],
   "source": [
    "t1=passes[\"Impact Factor\"].describe()\n",
    "h1=plt.hist(passes[\"Impact Factor\"],bins=[-2,-1,0,1,2,3,4])\n"
   ]
  },
  {
   "cell_type": "code",
   "execution_count": 46,
   "id": "868f93a6",
   "metadata": {},
   "outputs": [],
   "source": []
  },
  {
   "cell_type": "code",
   "execution_count": null,
   "id": "99f2e3e5",
   "metadata": {},
   "outputs": [],
   "source": []
  },
  {
   "cell_type": "code",
   "execution_count": null,
   "id": "786e435a",
   "metadata": {},
   "outputs": [],
   "source": []
  },
  {
   "cell_type": "code",
   "execution_count": 81,
   "id": "b33ec5d2",
   "metadata": {},
   "outputs": [
    {
     "name": "stdout",
     "output_type": "stream",
     "text": [
      "count    799.000000\n",
      "mean       0.052566\n",
      "std        0.847961\n",
      "min       -3.000000\n",
      "25%        0.000000\n",
      "50%        0.000000\n",
      "75%        0.000000\n",
      "max        4.000000\n",
      "Name: Impact Factor, dtype: float64\n"
     ]
    }
   ],
   "source": [
    "print(t10)"
   ]
  },
  {
   "cell_type": "code",
   "execution_count": 82,
   "id": "25bfcda1",
   "metadata": {},
   "outputs": [
    {
     "name": "stdout",
     "output_type": "stream",
     "text": [
      "count    799.000000\n",
      "mean       0.061327\n",
      "std        1.181518\n",
      "min       -4.000000\n",
      "25%       -1.000000\n",
      "50%        0.000000\n",
      "75%        1.000000\n",
      "max        5.000000\n",
      "Name: Impact Factor, dtype: float64\n"
     ]
    }
   ],
   "source": [
    "print(t5)"
   ]
  },
  {
   "cell_type": "code",
   "execution_count": 83,
   "id": "b9e1edde",
   "metadata": {},
   "outputs": [
    {
     "name": "stdout",
     "output_type": "stream",
     "text": [
      "count    799.000000\n",
      "mean       0.031289\n",
      "std        0.588335\n",
      "min       -2.000000\n",
      "25%        0.000000\n",
      "50%        0.000000\n",
      "75%        0.000000\n",
      "max        4.000000\n",
      "Name: Impact Factor, dtype: float64\n"
     ]
    }
   ],
   "source": [
    "print(t1)"
   ]
  },
  {
   "cell_type": "code",
   "execution_count": 96,
   "id": "ef553651",
   "metadata": {},
   "outputs": [
    {
     "ename": "NameError",
     "evalue": "name 'show' is not defined",
     "output_type": "error",
     "traceback": [
      "\u001b[0;31m---------------------------------------------------------------------------\u001b[0m",
      "\u001b[0;31mNameError\u001b[0m                                 Traceback (most recent call last)",
      "Cell \u001b[0;32mIn[96], line 1\u001b[0m\n\u001b[0;32m----> 1\u001b[0m show(h5)\n",
      "\u001b[0;31mNameError\u001b[0m: name 'show' is not defined"
     ]
    }
   ],
   "source": []
  },
  {
   "cell_type": "code",
   "execution_count": null,
   "id": "ffd23762",
   "metadata": {},
   "outputs": [],
   "source": []
  }
 ],
 "metadata": {
  "kernelspec": {
   "display_name": "Python 3 (ipykernel)",
   "language": "python",
   "name": "python3"
  },
  "language_info": {
   "codemirror_mode": {
    "name": "ipython",
    "version": 3
   },
   "file_extension": ".py",
   "mimetype": "text/x-python",
   "name": "python",
   "nbconvert_exporter": "python",
   "pygments_lexer": "ipython3",
   "version": "3.11.4"
  }
 },
 "nbformat": 4,
 "nbformat_minor": 5
}
